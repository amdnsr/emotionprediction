{
 "cells": [
  {
   "cell_type": "code",
   "execution_count": 2,
   "source": [
    "import os\r\n",
    "from pprint import pprint\r\n",
    "import numpy as np\r\n",
    "from matplotlib import pyplot as plt\r\n",
    "%matplotlib inline\r\n",
    "import cv2\r\n",
    "from PIL import Image\r\n",
    "import keras"
   ],
   "outputs": [],
   "metadata": {}
  },
  {
   "cell_type": "code",
   "execution_count": 3,
   "source": [
    "from homomorphicfilter import HomomorphicFilter"
   ],
   "outputs": [],
   "metadata": {}
  },
  {
   "cell_type": "code",
   "execution_count": 4,
   "source": [
    "homomorphicfilter = HomomorphicFilter(a = 0.75, b = 1.25)"
   ],
   "outputs": [],
   "metadata": {}
  },
  {
   "cell_type": "code",
   "execution_count": 5,
   "source": [
    "model_path = \"models/emotion_model.hdf5\""
   ],
   "outputs": [],
   "metadata": {}
  },
  {
   "cell_type": "code",
   "execution_count": 6,
   "source": [
    "model = keras.models.load_model(model_path)"
   ],
   "outputs": [
    {
     "output_type": "stream",
     "name": "stdout",
     "text": [
      "WARNING:tensorflow:Error in loading the saved optimizer state. As a result, your model is starting with a freshly initialized optimizer.\n"
     ]
    }
   ],
   "metadata": {}
  },
  {
   "cell_type": "code",
   "execution_count": 7,
   "source": [
    "label_names = ['Angry', 'Disgust', 'Fear', 'Happy', 'Sad', 'Surprise', 'Neutral']\r\n",
    "label_indices = list(range(0, 7))\r\n",
    "id_name_map = dict(zip(label_indices, label_names))"
   ],
   "outputs": [],
   "metadata": {}
  },
  {
   "cell_type": "code",
   "execution_count": 8,
   "source": [
    "def filterd_and_normalized(img, homomorphicfilter):\r\n",
    "    img_filtered = homomorphicfilter.filter(I=img, filter_params=[30,2])\r\n",
    "    img_normalized = cv2.equalizeHist(img_filtered)\r\n",
    "    return img_normalized"
   ],
   "outputs": [],
   "metadata": {}
  },
  {
   "cell_type": "code",
   "execution_count": 9,
   "source": [
    "def load_image_as_grayscale_and_apply_filter_and_normalization(img_path_in, homomorphicfilter):\r\n",
    "    img = Image.open(img_path_in)\r\n",
    "    img = img.convert(\"L\")\r\n",
    "    img = np.array(img)\r\n",
    "    img_normalized = filterd_and_normalized(img, homomorphicfilter)\r\n",
    "    return img_normalized"
   ],
   "outputs": [],
   "metadata": {}
  },
  {
   "cell_type": "code",
   "execution_count": 10,
   "source": [
    "def reshape_for_model(img, dim):\r\n",
    "    resized = cv2.resize(img, dim, interpolation = cv2.INTER_AREA)\r\n",
    "    return resized.reshape(1, *(resized.shape), 1)"
   ],
   "outputs": [],
   "metadata": {}
  },
  {
   "cell_type": "code",
   "execution_count": 11,
   "source": [
    "def predict_image(img_path_in, homomorphicfilter, model, id_name_map, dim):\r\n",
    "    filteredandnormalized = load_image_as_grayscale_and_apply_filter_and_normalization(img_path_in, homomorphicfilter)\r\n",
    "    model_in = reshape_for_model(filteredandnormalized, dim)\r\n",
    "    preds = model.predict(model_in)\r\n",
    "    max_ind = np.argmax(preds)\r\n",
    "    return (max_ind, id_name_map[max_ind])"
   ],
   "outputs": [],
   "metadata": {}
  },
  {
   "cell_type": "code",
   "execution_count": 12,
   "source": [
    "def test_model_accuracy(test_image_folder):\r\n",
    "    path, dirs, files = next(os.walk(test_image_folder))\r\n",
    "    results = np.ones((len(files),))\r\n",
    "    for i, file in enumerate(files):\r\n",
    "        img_path_in = os.path.join(path, file)\r\n",
    "        max_ind, id_name_map[max_ind] = predict_image(img_path_in, homomorphicfilter, model, id_name_map, dim=(64, 64))\r\n",
    "        results[i] = max_ind\r\n",
    "    return results"
   ],
   "outputs": [],
   "metadata": {}
  },
  {
   "cell_type": "code",
   "execution_count": null,
   "source": [
    "label_names = ['Angry', 'Disgust', 'Fear', 'Happy', 'Sad', 'Surprise', 'Neutral']\r\n",
    "label_indices = list(range(0, 7))\r\n",
    "id_name_map = dict(zip(label_indices, label_names))"
   ],
   "outputs": [],
   "metadata": {}
  },
  {
   "cell_type": "code",
   "execution_count": 15,
   "source": [
    "emotion_index = 0\r\n",
    "emotion_name = id_name_map[emotion_index]\r\n",
    "test_image_folder = f\"archive/test/{emotion_name.lower()}\""
   ],
   "outputs": [],
   "metadata": {}
  },
  {
   "cell_type": "code",
   "execution_count": 16,
   "source": [
    "print(emotion_name)"
   ],
   "outputs": [
    {
     "output_type": "execute_result",
     "data": {
      "text/plain": [
       "'Angry'"
      ]
     },
     "metadata": {},
     "execution_count": 16
    }
   ],
   "metadata": {}
  },
  {
   "cell_type": "code",
   "execution_count": null,
   "source": [
    "results = test_model_accuracy(test_image_folder)\r\n",
    "accuracy = (results == emotion_index).sum()/(results.shape)"
   ],
   "outputs": [],
   "metadata": {}
  },
  {
   "cell_type": "code",
   "execution_count": null,
   "source": [
    "print(f\"Accuracy for {emotion_name} = {int(10000*accuracy[0])/100.0}%\")"
   ],
   "outputs": [],
   "metadata": {}
  },
  {
   "cell_type": "markdown",
   "source": [
    "# Test all labels"
   ],
   "metadata": {}
  },
  {
   "cell_type": "code",
   "execution_count": null,
   "source": [
    "accuracy_dict = {}"
   ],
   "outputs": [],
   "metadata": {}
  },
  {
   "cell_type": "code",
   "execution_count": null,
   "source": [
    "\r\n",
    "for i, label_name in enumerate(label_names):\r\n",
    "    test_image_folder = f\"archive/test/{label_name.lower()}\"\r\n",
    "    results = test_model_accuracy(test_image_folder)\r\n",
    "    accuracy = (results == i).sum()/(results.shape)\r\n",
    "    accuracy_dict[label_name] = int(10000*accuracy[0])/100.0\r\n",
    "    print(f\"Completed the label {label_name}\")"
   ],
   "outputs": [],
   "metadata": {}
  },
  {
   "cell_type": "code",
   "execution_count": null,
   "source": [
    "pprint(accuracy_dict)"
   ],
   "outputs": [],
   "metadata": {}
  }
 ],
 "metadata": {
  "orig_nbformat": 4,
  "language_info": {
   "name": "python",
   "version": "3.8.9",
   "mimetype": "text/x-python",
   "codemirror_mode": {
    "name": "ipython",
    "version": 3
   },
   "pygments_lexer": "ipython3",
   "nbconvert_exporter": "python",
   "file_extension": ".py"
  },
  "kernelspec": {
   "name": "python3",
   "display_name": "Python 3.8.9 64-bit ('textsummarizationenv': venv)"
  },
  "interpreter": {
   "hash": "a8896bec8007dec6fcf2f16a38778b8ae259d236e9f3aeb7095ff3a801289d34"
  }
 },
 "nbformat": 4,
 "nbformat_minor": 2
}